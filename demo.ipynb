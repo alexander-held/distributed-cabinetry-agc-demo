{
 "cells": [
  {
   "cell_type": "markdown",
   "id": "3f3c943f",
   "metadata": {},
   "source": [
    "<font color='#197d3a'>\n",
    "\n",
    "# Distributed processing with `cabinetry` (+ `pyhf`)\n",
    "    \n",
    "</font>\n",
    "\n",
    "This (as of AGC demo day #3) requires a custom branch of `cabinetry`:\n",
    "```bash\n",
    "pip install git+https://github.com/scikit-hep/cabinetry.git@feat/histogram-production-refactor\n",
    "```\n"
   ]
  },
  {
   "cell_type": "code",
   "execution_count": 1,
   "id": "de3e3def",
   "metadata": {},
   "outputs": [
    {
     "name": "stderr",
     "output_type": "stream",
     "text": [
      "INFO - cabinetry.configuration - opening config file config_example.yml\n",
      "INFO - cabinetry.configuration - the config contains:\n",
      "INFO - cabinetry.configuration -   3 Sample(s)\n",
      "INFO - cabinetry.configuration -   1 Regions(s)\n",
      "INFO - cabinetry.configuration -   1 NormFactor(s)\n",
      "INFO - cabinetry.configuration -   3 Systematic(s)\n"
     ]
    }
   ],
   "source": [
    "import logging\n",
    "import glob\n",
    "import shutil\n",
    "\n",
    "import cabinetry\n",
    "from dask.distributed import Client, LocalCluster, wait\n",
    "import hist\n",
    "import matplotlib as mpl\n",
    "import matplotlib.pyplot as plt\n",
    "import numpy as np\n",
    "import pyhf\n",
    "\n",
    "\n",
    "logging.basicConfig(format=\"%(levelname)s - %(name)s - %(message)s\")\n",
    "logging.getLogger(\"cabinetry\").setLevel(logging.INFO)\n",
    "\n",
    "shutil.rmtree(\"histograms\", ignore_errors=True)\n",
    "\n",
    "\n",
    "# import example config file\n",
    "config = cabinetry.configuration.load(\"config_example.yml\")\n",
    "cabinetry.configuration.print_overview(config)"
   ]
  },
  {
   "cell_type": "markdown",
   "id": "1a298f51",
   "metadata": {},
   "source": [
    "Specify whether you want to run locally or on coffea-casa."
   ]
  },
  {
   "cell_type": "code",
   "execution_count": 2,
   "id": "49b29425",
   "metadata": {},
   "outputs": [
    {
     "name": "stdout",
     "output_type": "stream",
     "text": [
      "Dask dashboard: http://127.0.0.1:8787/status\n"
     ]
    }
   ],
   "source": [
    "# clocal setup\n",
    "cluster = LocalCluster(n_workers=2)\n",
    "client = Client(cluster)\n",
    "print(f\"Dask dashboard: {cluster.dashboard_link}\")\n",
    "\n",
    "# coffea-casa setup\n",
    "# client = Client(\"tls://localhost:8786\")"
   ]
  },
  {
   "cell_type": "markdown",
   "id": "4f9e3784",
   "metadata": {},
   "source": [
    "<font color='#197d3a'>\n",
    "\n",
    "## Template histogram production\n",
    "\n",
    "</font>"
   ]
  },
  {
   "cell_type": "code",
   "execution_count": 3,
   "id": "de521065",
   "metadata": {},
   "outputs": [
    {
     "name": "stdout",
     "output_type": "stream",
     "text": [
      "cat: config: No such file or directory\r\n",
      "General:\r\n",
      "  Measurement: \"minimal_example\"\r\n",
      "  POI: \"Signal_norm\"\r\n",
      "  HistogramFolder: \"histograms/\"\r\n",
      "  InputPath: \"inputs/{SamplePath}\"\r\n",
      "\r\n",
      "Regions:\r\n",
      "  - Name: \"Signal_region\"\r\n",
      "    Variable: \"jet_pt\"\r\n",
      "    Filter: \"lep_charge > 0\"\r\n",
      "    Binning: [200, 300, 400, 500, 600]\r\n",
      "\r\n",
      "Samples:\r\n",
      "  - Name: \"Data\"\r\n",
      "    Tree: \"pseudodata\"\r\n",
      "    SamplePath: \"data.root\"\r\n",
      "    Data: True\r\n",
      "\r\n",
      "  - Name: \"Signal\"\r\n",
      "    Tree: \"signal\"\r\n",
      "    SamplePath: \"prediction.root\"\r\n",
      "    Weight: \"weight\"\r\n",
      "\r\n",
      "  - Name: \"Background\"\r\n",
      "    Tree: \"background\"\r\n",
      "    SamplePath: \"prediction.root\"\r\n",
      "    Weight: \"weight\"\r\n",
      "\r\n",
      "Systematics:\r\n",
      "  - Name: \"Luminosity\"\r\n",
      "    Up:\r\n",
      "      Normalization: 0.05\r\n",
      "    Down:\r\n",
      "      Normalization: -0.05\r\n",
      "    Type: \"Normalization\"\r\n",
      "\r\n",
      "  - Name: \"Modeling\"\r\n",
      "    Up:\r\n",
      "      SamplePath: \"prediction.root\"\r\n",
      "      Tree: \"background_varied\"\r\n",
      "    Down:\r\n",
      "      Symmetrize: True\r\n",
      "    Samples: \"Background\"\r\n",
      "    Type: \"NormPlusShape\"\r\n",
      "\r\n",
      "  - Name: \"WeightBasedModeling\"\r\n",
      "    Up:\r\n",
      "      Weight: \"weight_up\"\r\n",
      "    Down:\r\n",
      "      Weight: \"0.7*weight\"\r\n",
      "    Samples: \"Background\"\r\n",
      "    Type: \"NormPlusShape\"\r\n",
      "\r\n",
      "NormFactors:\r\n",
      "  - Name: \"Signal_norm\"\r\n",
      "    Samples: \"Signal\"\r\n",
      "    Nominal: 1\r\n",
      "    Bounds: [0, 10]\r\n"
     ]
    }
   ],
   "source": [
    "!cat config config_example.yml"
   ]
  },
  {
   "cell_type": "markdown",
   "id": "83228f72",
   "metadata": {},
   "source": [
    "The old, non-distributed way of template histogram production: `cabinetry` figures out which histograms are needed to build the model specified in the config and does all that behind the scenes.\n",
    "\n",
    "(Side note: yes, there are better ways than saving every histogram into a `.npz` file — this should be improved.)"
   ]
  },
  {
   "cell_type": "code",
   "execution_count": 4,
   "id": "31498e74",
   "metadata": {},
   "outputs": [
    {
     "name": "stderr",
     "output_type": "stream",
     "text": [
      "WARNING - cabinetry.histo - Signal_region_Signal has empty bins: [0]\n"
     ]
    },
    {
     "data": {
      "text/plain": [
       "['histograms/Signal_region_Background_WeightBasedModeling_Up.npz',\n",
       " 'histograms/Signal_region_Background_Modeling_Up.npz',\n",
       " 'histograms/Signal_region_Data.npz',\n",
       " 'histograms/Signal_region_Signal.npz',\n",
       " 'histograms/Signal_region_Background.npz',\n",
       " 'histograms/Signal_region_Background_WeightBasedModeling_Down.npz']"
      ]
     },
     "execution_count": 4,
     "metadata": {},
     "output_type": "execute_result"
    }
   ],
   "source": [
    "cabinetry.templates.build(config)\n",
    "glob.glob(\"histograms/*\")  # the histograms appear here"
   ]
  },
  {
   "cell_type": "markdown",
   "id": "ee8d961d",
   "metadata": {},
   "source": [
    "The new API makes it more explicit what \"work\" exists and needs to be handled: it provides a list of instructions to build histograms (they still require translation into `uproot` + `awkward` Python code by `cabinetry`)."
   ]
  },
  {
   "cell_type": "code",
   "execution_count": 5,
   "id": "6ea740dc",
   "metadata": {},
   "outputs": [
    {
     "name": "stdout",
     "output_type": "stream",
     "text": [
      "({'Name': 'Signal_region', 'Variable': 'jet_pt', 'Filter': 'lep_charge > 0', 'Binning': [200, 300, 400, 500, 600]}, {'Name': 'Data', 'Tree': 'pseudodata', 'SamplePath': 'data.root', 'Data': True}, {}, None)\n",
      "\n",
      "({'Name': 'Signal_region', 'Variable': 'jet_pt', 'Filter': 'lep_charge > 0', 'Binning': [200, 300, 400, 500, 600]}, {'Name': 'Signal', 'Tree': 'signal', 'SamplePath': 'prediction.root', 'Weight': 'weight'}, {}, None)\n",
      "\n",
      "({'Name': 'Signal_region', 'Variable': 'jet_pt', 'Filter': 'lep_charge > 0', 'Binning': [200, 300, 400, 500, 600]}, {'Name': 'Background', 'Tree': 'background', 'SamplePath': 'prediction.root', 'Weight': 'weight'}, {}, None)\n",
      "\n",
      "({'Name': 'Signal_region', 'Variable': 'jet_pt', 'Filter': 'lep_charge > 0', 'Binning': [200, 300, 400, 500, 600]}, {'Name': 'Background', 'Tree': 'background', 'SamplePath': 'prediction.root', 'Weight': 'weight'}, {'Name': 'Modeling', 'Up': {'SamplePath': 'prediction.root', 'Tree': 'background_varied'}, 'Down': {'Symmetrize': True}, 'Samples': 'Background', 'Type': 'NormPlusShape'}, 'Up')\n",
      "\n",
      "({'Name': 'Signal_region', 'Variable': 'jet_pt', 'Filter': 'lep_charge > 0', 'Binning': [200, 300, 400, 500, 600]}, {'Name': 'Background', 'Tree': 'background', 'SamplePath': 'prediction.root', 'Weight': 'weight'}, {'Name': 'WeightBasedModeling', 'Up': {'Weight': 'weight_up'}, 'Down': {'Weight': '0.7*weight'}, 'Samples': 'Background', 'Type': 'NormPlusShape'}, 'Up')\n",
      "\n",
      "({'Name': 'Signal_region', 'Variable': 'jet_pt', 'Filter': 'lep_charge > 0', 'Binning': [200, 300, 400, 500, 600]}, {'Name': 'Background', 'Tree': 'background', 'SamplePath': 'prediction.root', 'Weight': 'weight'}, {'Name': 'WeightBasedModeling', 'Up': {'Weight': 'weight_up'}, 'Down': {'Weight': '0.7*weight'}, 'Samples': 'Background', 'Type': 'NormPlusShape'}, 'Down')\n",
      "\n"
     ]
    }
   ],
   "source": [
    "template_list = cabinetry.route.required_templates(config)\n",
    "\n",
    "for template_instructions in template_list:\n",
    "    print(f\"{template_instructions}\\n\")"
   ]
  },
  {
   "cell_type": "markdown",
   "id": "425eb92c",
   "metadata": {},
   "source": [
    "We can process these \"instructions\" one at a time (or in batches) by handing them over to `cabinetry`."
   ]
  },
  {
   "cell_type": "code",
   "execution_count": 6,
   "id": "715fe587",
   "metadata": {},
   "outputs": [
    {
     "name": "stderr",
     "output_type": "stream",
     "text": [
      "WARNING - cabinetry.histo - Signal_region_Signal has empty bins: [0]\n"
     ]
    },
    {
     "data": {
      "text/plain": [
       "['histograms/Signal_region_Background_WeightBasedModeling_Up.npz',\n",
       " 'histograms/Signal_region_Background_Modeling_Up.npz',\n",
       " 'histograms/Signal_region_Data.npz',\n",
       " 'histograms/Signal_region_Signal.npz',\n",
       " 'histograms/Signal_region_Background.npz',\n",
       " 'histograms/Signal_region_Background_WeightBasedModeling_Down.npz']"
      ]
     },
     "execution_count": 6,
     "metadata": {},
     "output_type": "execute_result"
    }
   ],
   "source": [
    "shutil.rmtree(\"histograms\", ignore_errors=True)  # delete existing histograms again to reproduce them\n",
    "\n",
    "cabinetry.templates.build(config, template_list=template_list[0:2])  # here we build the first two\n",
    "cabinetry.templates.build(config, template_list=template_list[2:])  # and the rest\n",
    "\n",
    "glob.glob(\"histograms/*\")  # the histograms have been successfully recreated"
   ]
  },
  {
   "cell_type": "markdown",
   "id": "054c07ec",
   "metadata": {},
   "source": [
    "<font color='#197d3a'>\n",
    "\n",
    "## Using Dask\n",
    "\n",
    "</font>\n",
    "\n",
    "We could now send these instructions off via e.g. Python futures, or use Dask."
   ]
  },
  {
   "cell_type": "code",
   "execution_count": 7,
   "id": "bd299ea3",
   "metadata": {},
   "outputs": [
    {
     "name": "stderr",
     "output_type": "stream",
     "text": [
      "Signal_region_Signal has empty bins: [0]\n"
     ]
    },
    {
     "data": {
      "text/plain": [
       "['histograms/Signal_region_Background_WeightBasedModeling_Up.npz',\n",
       " 'histograms/Signal_region_Background_Modeling_Up.npz',\n",
       " 'histograms/Signal_region_Data.npz',\n",
       " 'histograms/Signal_region_Signal.npz',\n",
       " 'histograms/Signal_region_Background.npz',\n",
       " 'histograms/Signal_region_Background_WeightBasedModeling_Down.npz']"
      ]
     },
     "execution_count": 7,
     "metadata": {},
     "output_type": "execute_result"
    }
   ],
   "source": [
    "shutil.rmtree(\"histograms\", ignore_errors=True)  # delete existing histograms again to reproduce them\n",
    "\n",
    "\n",
    "def produce_single_template(template):\n",
    "    cabinetry.templates.build(config, template_list=[template])\n",
    "\n",
    "\n",
    "wait(client.map(produce_single_template, template_list))\n",
    "\n",
    "\n",
    "glob.glob(\"histograms/*\")  # the histograms have been successfully recreated"
   ]
  },
  {
   "cell_type": "markdown",
   "id": "03ea5d72",
   "metadata": {},
   "source": [
    "This works fine locally. Note however the structure of `produce_single_template`: we are *not* producing a histogram on a worker and sending back that histogram over the network.\n",
    "Instead, the histogram is saved wherever it is processed.\n",
    "\n",
    "\n",
    "\n",
    "```\n",
    " node 1         | node 2..N\n",
    "                |        read input\n",
    "                |            v\n",
    "__________      |         ___|____\n",
    "|notebook| send work item |worker|\n",
    "|________| -------------> |______|\n",
    "                |            |\n",
    "                |            V\n",
    "                |       save histogram\n",
    "```\n",
    "This works fine with a shared file system.\n",
    "At the moment, this would not run on coffea-casa.\n",
    "\n",
    "We could instead go for a \"coffea-like\" approach and send the histogram back and save it on the head node:\n",
    "\n",
    "\n",
    "```\n",
    " node 1         | node 2..N\n",
    "                |        read input\n",
    "                |            v\n",
    "__________      |         ___|____\n",
    "|notebook| send work item |worker|\n",
    "|        | -------------> |      |\n",
    "|        |  return hist   |      |\n",
    "|________| <------------- |______|\n",
    "    |           |\n",
    "    v           |\n",
    " save histogram |\n",
    "```\n",
    "\n",
    "This should work fine, but require some internal refactoring in `cabinetry`.\n",
    "\n",
    "<font color='#197d3a'>\n",
    "\n",
    "### Shared file systems\n",
    "\n",
    "</font>\n",
    "\n",
    "To what extent do we want to support shared file systems?\n",
    "In the example here, users will need to ship around O(10k) 1-dimensional histograms, which is no big deal.\n",
    "Not clear to me that this scales to ntuple-skimming jobs (which traditionally would be done on batch) and shipping around many O(10 GB) or larger files (memory + maybe network issues?)."
   ]
  },
  {
   "cell_type": "markdown",
   "id": "16243672",
   "metadata": {},
   "source": [
    "<font color='#197d3a'>\n",
    "\n",
    "## Statistical inference\n",
    "\n",
    "</font>"
   ]
  },
  {
   "cell_type": "code",
   "execution_count": 8,
   "id": "b8f7b6ed",
   "metadata": {},
   "outputs": [
    {
     "name": "stderr",
     "output_type": "stream",
     "text": [
      "WARNING - cabinetry.histo - Signal_region_Signal has empty bins: [0]\n",
      "INFO - cabinetry.workspace - building workspace\n"
     ]
    }
   ],
   "source": [
    "# perform histogram post-processing\n",
    "cabinetry.templates.postprocess(config)\n",
    "\n",
    "# build a workspace and obtain statistical model + data to fit to\n",
    "ws = cabinetry.workspace.build(config)\n",
    "model, data = cabinetry.model_utils.model_and_data(ws)"
   ]
  },
  {
   "cell_type": "markdown",
   "id": "63625b6a",
   "metadata": {},
   "source": [
    "A single fit can be done in a straightforward way:"
   ]
  },
  {
   "cell_type": "code",
   "execution_count": 9,
   "id": "65e8a2b2",
   "metadata": {},
   "outputs": [
    {
     "name": "stderr",
     "output_type": "stream",
     "text": [
      "INFO - cabinetry.fit - performing maximum likelihood fit\n",
      "INFO - cabinetry.fit - Migrad status:\n",
      "┌─────────────────────────────────────────────────────────────────────────┐\n",
      "│                                Migrad                                   │\n",
      "├──────────────────────────────────┬──────────────────────────────────────┤\n",
      "│ FCN = 17.19                      │              Nfcn = 327              │\n",
      "│ EDM = 1.12e-06 (Goal: 0.0002)    │                                      │\n",
      "├──────────────────────────────────┼──────────────────────────────────────┤\n",
      "│          Valid Minimum           │        No Parameters at limit        │\n",
      "├──────────────────────────────────┼──────────────────────────────────────┤\n",
      "│ Below EDM threshold (goal x 10)  │           Below call limit           │\n",
      "├───────────────┬──────────────────┼───────────┬─────────────┬────────────┤\n",
      "│  Covariance   │     Hesse ok     │ Accurate  │  Pos. def.  │ Not forced │\n",
      "└───────────────┴──────────────────┴───────────┴─────────────┴────────────┘\n",
      "INFO - cabinetry.fit - fit results (with symmetric uncertainties):\n",
      "INFO - cabinetry.fit - Modeling                   = -0.3246 +/- 0.5555\n",
      "INFO - cabinetry.fit - WeightBasedModeling        = -0.5858 +/- 0.6272\n",
      "INFO - cabinetry.fit - Signal_norm                =  1.6895 +/- 0.9388\n",
      "INFO - cabinetry.fit - Luminosity                 = -0.0880 +/- 0.9913\n",
      "INFO - cabinetry.fit - staterror_Signal_region[0] =  1.0010 +/- 0.0411\n",
      "INFO - cabinetry.fit - staterror_Signal_region[1] =  0.9891 +/- 0.0379\n",
      "INFO - cabinetry.fit - staterror_Signal_region[2] =  1.0197 +/- 0.0365\n",
      "INFO - cabinetry.fit - staterror_Signal_region[3] =  0.9830 +/- 0.0425\n",
      "INFO - cabinetry.visualize.utils - saving figure as figures/Signal_region_postfit.pdf\n"
     ]
    },
    {
     "data": {
      "image/png": "[encoded data removed]",
      "text/plain": [
       "<Figure size 600x600 with 2 Axes>"
      ]
     },
     "metadata": {},
     "output_type": "display_data"
    }
   ],
   "source": [
    "# run a fit\n",
    "fit_results = cabinetry.fit.fit(model, data)\n",
    "\n",
    "# visualize post-fit model prediction\n",
    "prediction_postfit = cabinetry.model_utils.prediction(model, fit_results=fit_results)\n",
    "_ = cabinetry.visualize.data_mc(prediction_postfit, data, config=config)"
   ]
  },
  {
   "cell_type": "markdown",
   "id": "6e754628",
   "metadata": {},
   "source": [
    "What if we want to run _many_ fits?\n",
    "Example here: toy-based p-value distribution for goodness-of-fit."
   ]
  },
  {
   "cell_type": "code",
   "execution_count": 10,
   "id": "067d5854",
   "metadata": {},
   "outputs": [],
   "source": [
    "logging.getLogger(\"cabinetry\").setLevel(logging.ERROR)  # make cabinetry more quiet for this\n",
    "pdf = model.make_pdf(pyhf.tensorlib.astensor(model.config.suggested_init()))\n",
    "\n",
    "gof_values = []\n",
    "\n",
    "def plot_histogram(gof_values):\n",
    "    mpl.style.use(\"ggplot\")\n",
    "    fig, ax = plt.subplots()\n",
    "    hist.new.Regular(20, 0, 1).Weight().fill(gof_values, weight=1/NTOYS*20).plot(linewidth=2)\n",
    "    # ax_1.hist(gof_values, bins=np.linspace(0, 1, 11), density=True)\n",
    "    ax.set_xlabel(\"goodness-of-fit $p$-value\")"
   ]
  },
  {
   "cell_type": "markdown",
   "id": "bb326631",
   "metadata": {},
   "source": [
    "Run fits to 100 toys and visualize the p-value distribution."
   ]
  },
  {
   "cell_type": "code",
   "execution_count": 11,
   "id": "149edf15",
   "metadata": {
    "scrolled": true
   },
   "outputs": [
    {
     "name": "stdout",
     "output_type": "stream",
     "text": [
      "CPU times: user 3.96 s, sys: 487 ms, total: 4.45 s\n",
      "Wall time: 4.12 s\n"
     ]
    },
    {
     "data": {
      "image/png": "[encoded data removed]",
      "text/plain": [
       "<Figure size 640x480 with 1 Axes>"
      ]
     },
     "metadata": {},
     "output_type": "display_data"
    }
   ],
   "source": [
    "%%time\n",
    "\n",
    "NTOYS = 100\n",
    "samples = pdf.sample((NTOYS,))\n",
    "\n",
    "# run a fit for each toy MC\n",
    "for sample in samples:\n",
    "    fit_result = cabinetry.fit.fit(model, sample, goodness_of_fit=True)\n",
    "    gof_values.append(fit_result.goodness_of_fit)\n",
    "\n",
    "plot_histogram(gof_values)"
   ]
  },
  {
   "cell_type": "markdown",
   "id": "caa9eec3",
   "metadata": {},
   "source": [
    "If we want more toys, we should parallelize.\n",
    "Dask comes to the rescue!"
   ]
  },
  {
   "cell_type": "code",
   "execution_count": 12,
   "id": "7742302b",
   "metadata": {},
   "outputs": [
    {
     "name": "stdout",
     "output_type": "stream",
     "text": [
      "CPU times: user 2.26 s, sys: 492 ms, total: 2.75 s\n",
      "Wall time: 35.1 s\n"
     ]
    },
    {
     "data": {
      "image/png": "[encoded data removed]",
      "text/plain": [
       "<Figure size 640x480 with 1 Axes>"
      ]
     },
     "metadata": {},
     "output_type": "display_data"
    }
   ],
   "source": [
    "%%time\n",
    "\n",
    "NTOYS = 1_000\n",
    "samples = pdf.sample((NTOYS,))\n",
    "\n",
    "# returns our workload, which is a function that calculates a goodness-of-fit p-value given some toy dataset\n",
    "# NB: the outer function can probably be avoided with better use of the Dask API (?) -> suggestions welcome!\n",
    "def get_fit_function(model):\n",
    "    def get_gof(sample):\n",
    "        try:\n",
    "            fit_result = cabinetry.fit.fit(model, sample, goodness_of_fit=True)\n",
    "            gof = fit_result.goodness_of_fit\n",
    "        except pyhf.exceptions.FailedMinimization:  # also handle minimization failures\n",
    "            gof = np.nan\n",
    "        return gof\n",
    "    return get_gof\n",
    "\n",
    "\n",
    "# toys via Dask\n",
    "scattered_data = client.scatter([s for s in samples])  # instead of submitting (possibly big) object directly\n",
    "futures = client.map(get_fit_function(model), scattered_data)\n",
    "gof_values = np.asarray([r for r in client.gather(iter(futures))])  # collect our results\n",
    "\n",
    "plot_histogram(gof_values)"
   ]
  },
  {
   "cell_type": "markdown",
   "id": "57c6d789",
   "metadata": {},
   "source": [
    "You can also use the same pattern with e.g. Python futures instead."
   ]
  },
  {
   "cell_type": "code",
   "execution_count": 13,
   "id": "2c888497",
   "metadata": {},
   "outputs": [
    {
     "name": "stdout",
     "output_type": "stream",
     "text": [
      "W MnPosDef Matrix forced pos-def by adding to diagonal 0.00765567\n",
      "W DavidonErrorUpdator delgam < 0 : first derivatives increasing along search line\n",
      "W VariableMetricBuilder Matrix not pos.def, gdel = 0.026884 > 0\n",
      "W MnPosDef non-positive diagonal element in covariance matrix[ 0 ] = -0.0110314\n",
      "W MnPosDef non-positive diagonal element in covariance matrix[ 1 ] = -0.040152\n",
      "W MnPosDef non-positive diagonal element in covariance matrix[ 2 ] = -0.377745\n",
      "W MnPosDef Added to diagonal of Error matrix a value 0.877746\n",
      "W VariableMetricBuilder gdel = -0.761373\n"
     ]
    }
   ],
   "source": [
    "client.close()\n",
    "cluster.close()"
   ]
  },
  {
   "cell_type": "markdown",
   "id": "3f52b09d",
   "metadata": {},
   "source": [
    "<font color='#197d3a'>\n",
    "\n",
    "## Items for follow-up discussion\n",
    "\n",
    "</font>\n",
    "\n",
    "- **How do we feel about shared filesystem as AF requirement?**\n",
    "- **How easy is it to use HTCondor functionality to copy files back to head node _when used via Dask_?**\n",
    "- **Is it worth advertising more explicitly the \"distribute anything via Dask\" aspect shown here?**"
   ]
  }
 ],
 "metadata": {
  "kernelspec": {
   "display_name": "Python 3 (ipykernel)",
   "language": "python",
   "name": "python3"
  },
  "language_info": {
   "codemirror_mode": {
    "name": "ipython",
    "version": 3
   },
   "file_extension": ".py",
   "mimetype": "text/x-python",
   "name": "python",
   "nbconvert_exporter": "python",
   "pygments_lexer": "ipython3",
   "version": "3.9.16"
  }
 },
 "nbformat": 4,
 "nbformat_minor": 5
}
